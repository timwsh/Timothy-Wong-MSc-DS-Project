{
 "cells": [
  {
   "cell_type": "code",
   "execution_count": 1,
   "id": "6c1bcd3e",
   "metadata": {},
   "outputs": [],
   "source": [
    "import warnings\n",
    "warnings.filterwarnings('ignore')"
   ]
  },
  {
   "cell_type": "code",
   "execution_count": 2,
   "id": "ad00df62",
   "metadata": {},
   "outputs": [],
   "source": [
    "import pandas as pd\n",
    "import numpy as np\n",
    "import os\n",
    "#import json\n",
    "import torch\n",
    "\n",
    "import time\n",
    "\n",
    "from tqdm import tqdm"
   ]
  },
  {
   "cell_type": "code",
   "execution_count": 3,
   "id": "d064c409",
   "metadata": {},
   "outputs": [],
   "source": [
    "###setting directory\n",
    "data_dir=\"data\"\n",
    "model_dir=\"models\"\n",
    "output_dir=\"output\"\n",
    "###"
   ]
  },
  {
   "cell_type": "markdown",
   "id": "d9f5c706",
   "metadata": {},
   "source": [
    "# Finetune model: load dataset"
   ]
  },
  {
   "cell_type": "code",
   "execution_count": 4,
   "id": "c2138833",
   "metadata": {},
   "outputs": [],
   "source": [
    "#change\n",
    "from datasets import Dataset\n",
    "#PVE_input = Dataset.from_pandas(pd.read_csv('data\\PVE_covid_annotation_v0_1.csv', encoding='latin1',index_col=0))\n",
    "PVE_input =pd.read_excel('data\\PVE_covid_annotation_v7_annotated.xlsx', index_col=0)\n",
    "train_set=Dataset.from_pandas(PVE_input[(PVE_input['BL_batch']>=0) & (PVE_input['BL_batch']<=7)])\n",
    "test_set=Dataset.from_pandas(PVE_input[PVE_input['BL_batch']==-1])"
   ]
  },
  {
   "cell_type": "code",
   "execution_count": 5,
   "id": "3715f2b8",
   "metadata": {},
   "outputs": [
    {
     "data": {
      "text/plain": [
       "Dataset({\n",
       "    features: ['opinion', 'project', 'random_order', 'BL_batch', 'AL_batch', 'Autonomy_for_companies', 'Autonomy_for_close_contact_professions', 'Quality_of_life_for_elderly', 'Family_value', 'Feasibility', 'Acceptance_of_exception', 'The_need_of_schooling', 'Working_safety', 'Well-being', 'Reduce_adverse_effect', 'step_0_margin', 'step_0_rank', 'step_1_margin', 'step_1_rank', 'step_2_margin', 'step_2_rank', 'step_3_margin', 'step_3_rank', 'step_4_margin', 'step_4_rank', 'step_5_margin', 'step_5_rank', 'step_6_margin', 'step_6_rank', 'step_7_margin', 'step_7_rank', 'step_8_margin', 'step_8_rank', 'step_9_margin', 'step_9_rank', '__index_level_0__'],\n",
       "    num_rows: 400\n",
       "})"
      ]
     },
     "execution_count": 5,
     "metadata": {},
     "output_type": "execute_result"
    }
   ],
   "source": [
    "train_set"
   ]
  },
  {
   "cell_type": "code",
   "execution_count": 6,
   "id": "0472546c",
   "metadata": {},
   "outputs": [],
   "source": [
    "labels = ['Autonomy_for_companies',\n",
    " 'Autonomy_for_close_contact_professions',\n",
    " 'Quality_of_life_for_elderly',\n",
    " 'Family_value',\n",
    " 'Feasibility',\n",
    " 'Acceptance_of_exception',\n",
    " 'The_need_of_schooling',\n",
    " 'Working_safety',\n",
    " 'Well-being',\n",
    " 'Reduce_adverse_effect']"
   ]
  },
  {
   "cell_type": "code",
   "execution_count": 7,
   "id": "6a06e4f3",
   "metadata": {},
   "outputs": [],
   "source": [
    "id2label = {idx:label for idx, label in enumerate(labels)}\n",
    "label2id = {label:idx for idx, label in enumerate(labels)}"
   ]
  },
  {
   "cell_type": "code",
   "execution_count": 8,
   "id": "105938d9",
   "metadata": {},
   "outputs": [
    {
     "data": {
      "text/plain": [
       "{'Autonomy_for_companies': 0,\n",
       " 'Autonomy_for_close_contact_professions': 1,\n",
       " 'Quality_of_life_for_elderly': 2,\n",
       " 'Family_value': 3,\n",
       " 'Feasibility': 4,\n",
       " 'Acceptance_of_exception': 5,\n",
       " 'The_need_of_schooling': 6,\n",
       " 'Working_safety': 7,\n",
       " 'Well-being': 8,\n",
       " 'Reduce_adverse_effect': 9}"
      ]
     },
     "execution_count": 8,
     "metadata": {},
     "output_type": "execute_result"
    }
   ],
   "source": [
    "label2id "
   ]
  },
  {
   "cell_type": "markdown",
   "id": "da750370",
   "metadata": {},
   "source": [
    "# Preprocess data"
   ]
  },
  {
   "cell_type": "code",
   "execution_count": 9,
   "id": "9b309f62",
   "metadata": {},
   "outputs": [],
   "source": [
    "from transformers import AutoTokenizer\n",
    "import numpy as np\n",
    "\n",
    "tokenizer = AutoTokenizer.from_pretrained(\"bert-base-uncased\")\n",
    "\n",
    "def preprocess_data(examples):\n",
    "    # take a batch of texts\n",
    "    #text = examples[\"Tweet\"]\n",
    "    # encode them\n",
    "    encoding = tokenizer(examples['project'], examples['opinion'], truncation=True)\n",
    "    # add labels\n",
    "    labels_batch = {k: examples[k] for k in examples.keys() if k in labels}\n",
    "    # create numpy array of shape (batch_size, num_labels)\n",
    "    labels_matrix = np.zeros((len(examples['opinion']), len(labels)))\n",
    "    # fill numpy array\n",
    "    for idx, label in enumerate(labels):\n",
    "        labels_matrix[:, idx] = labels_batch[label]\n",
    "\n",
    "    encoding[\"labels\"] = labels_matrix.tolist()\n",
    "  \n",
    "    return encoding\n"
   ]
  },
  {
   "cell_type": "code",
   "execution_count": 10,
   "id": "79c70b00",
   "metadata": {},
   "outputs": [
    {
     "data": {
      "application/vnd.jupyter.widget-view+json": {
       "model_id": "",
       "version_major": 2,
       "version_minor": 0
      },
      "text/plain": [
       "Map:   0%|          | 0/400 [00:00<?, ? examples/s]"
      ]
     },
     "metadata": {},
     "output_type": "display_data"
    },
    {
     "data": {
      "application/vnd.jupyter.widget-view+json": {
       "model_id": "",
       "version_major": 2,
       "version_minor": 0
      },
      "text/plain": [
       "Map:   0%|          | 0/200 [00:00<?, ? examples/s]"
      ]
     },
     "metadata": {},
     "output_type": "display_data"
    }
   ],
   "source": [
    "encoded_train_set = train_set.map(preprocess_data, batched=True, remove_columns=train_set.column_names)\n",
    "encoded_test_set = test_set.map(preprocess_data, batched=True, remove_columns=test_set.column_names)"
   ]
  },
  {
   "cell_type": "code",
   "execution_count": 11,
   "id": "0ff25631",
   "metadata": {},
   "outputs": [
    {
     "name": "stdout",
     "output_type": "stream",
     "text": [
      "dict_keys(['input_ids', 'token_type_ids', 'attention_mask', 'labels'])\n"
     ]
    }
   ],
   "source": [
    "example =encoded_train_set[0]\n",
    "print(example.keys())"
   ]
  },
  {
   "cell_type": "code",
   "execution_count": 12,
   "id": "45d7c7de",
   "metadata": {},
   "outputs": [
    {
     "data": {
      "text/plain": [
       "'[CLS] nursing homes allow visitors again [SEP] loneliness in the last phase of life is inhumane and also leads to premature death. [SEP]'"
      ]
     },
     "execution_count": 12,
     "metadata": {},
     "output_type": "execute_result"
    }
   ],
   "source": [
    "tokenizer.decode(example['input_ids'])"
   ]
  },
  {
   "cell_type": "code",
   "execution_count": 13,
   "id": "7b2f1203",
   "metadata": {},
   "outputs": [
    {
     "data": {
      "text/plain": [
       "[0.0, 0.0, 1.0, 0.0, 0.0, 0.0, 0.0, 0.0, 1.0, 0.0]"
      ]
     },
     "execution_count": 13,
     "metadata": {},
     "output_type": "execute_result"
    }
   ],
   "source": [
    "example['labels']"
   ]
  },
  {
   "cell_type": "code",
   "execution_count": 14,
   "id": "7bf7fda2",
   "metadata": {},
   "outputs": [
    {
     "data": {
      "text/plain": [
       "['Quality_of_life_for_elderly', 'Well-being']"
      ]
     },
     "execution_count": 14,
     "metadata": {},
     "output_type": "execute_result"
    }
   ],
   "source": [
    "[id2label[idx] for idx, label in enumerate(example['labels']) if label == 1.0]"
   ]
  },
  {
   "cell_type": "code",
   "execution_count": 15,
   "id": "32b36447",
   "metadata": {},
   "outputs": [
    {
     "name": "stdout",
     "output_type": "stream",
     "text": [
      "There are 1 GPU(s) available.\n",
      "We will use the GPU: NVIDIA GeForce MX550\n"
     ]
    }
   ],
   "source": [
    "if torch.cuda.is_available():\n",
    "    print(f'There are {torch.cuda.device_count()} GPU(s) available.')\n",
    "    print(f'We will use the GPU: {torch.cuda.get_device_name(0)}')\n",
    "    encoded_train_set.set_format(\"torch\", device='cuda:0')\n",
    "    encoded_test_set.set_format(\"torch\", device='cuda:0')\n",
    "else:\n",
    "    encoded_train_set.set_format(\"torch\")\n",
    "    encoded_test_set.set_format(\"torch\")\n",
    "    print('No GPU available, using the CPU instead.')\n"
   ]
  },
  {
   "cell_type": "markdown",
   "id": "8c59de53",
   "metadata": {},
   "source": [
    "# Define model"
   ]
  },
  {
   "cell_type": "code",
   "execution_count": 16,
   "id": "59d28a91",
   "metadata": {},
   "outputs": [
    {
     "name": "stderr",
     "output_type": "stream",
     "text": [
      "Some weights of BertForSequenceClassification were not initialized from the model checkpoint at ./models/bert_train_level1/ and are newly initialized because the shapes did not match:\n",
      "- classifier.weight: found shape torch.Size([54, 768]) in the checkpoint and torch.Size([10, 768]) in the model instantiated\n",
      "- classifier.bias: found shape torch.Size([54]) in the checkpoint and torch.Size([10]) in the model instantiated\n",
      "You should probably TRAIN this model on a down-stream task to be able to use it for predictions and inference.\n"
     ]
    }
   ],
   "source": [
    "from transformers import AutoModelForSequenceClassification\n",
    "\n",
    "model = AutoModelForSequenceClassification.from_pretrained('./models/bert_train_level1/' , \n",
    "                                                           problem_type=\"multi_label_classification\", \n",
    "                                                           num_labels=len(labels),\n",
    "                                                           id2label=id2label,\n",
    "                                                           label2id=label2id, ignore_mismatched_sizes=True)"
   ]
  },
  {
   "cell_type": "code",
   "execution_count": 17,
   "id": "55016543",
   "metadata": {},
   "outputs": [
    {
     "name": "stdout",
     "output_type": "stream",
     "text": [
      "There are 1 GPU(s) available.\n",
      "We will use the GPU: NVIDIA GeForce MX550\n"
     ]
    }
   ],
   "source": [
    "if torch.cuda.is_available():\n",
    "    print(f'There are {torch.cuda.device_count()} GPU(s) available.')\n",
    "    print(f'We will use the GPU: {torch.cuda.get_device_name(0)}')\n",
    "    model.to('cuda')\n",
    "else:    \n",
    "    print('No GPU available, using the CPU instead.')\n"
   ]
  },
  {
   "cell_type": "markdown",
   "id": "23eff6e8",
   "metadata": {},
   "source": [
    "# Train the model"
   ]
  },
  {
   "cell_type": "code",
   "execution_count": 18,
   "id": "343f1973",
   "metadata": {},
   "outputs": [],
   "source": [
    "batch_size = 2\n",
    "#batch_size = 8\n",
    "metric_name = \"f1\""
   ]
  },
  {
   "cell_type": "code",
   "execution_count": 19,
   "id": "bce541cb",
   "metadata": {
    "scrolled": true
   },
   "outputs": [],
   "source": [
    "from transformers import TrainingArguments, Trainer\n",
    "\n",
    "args = TrainingArguments(\n",
    "    f\"bert-finetuned-sem_eval-english\",\n",
    "    #evaluation_strategy = \"epoch\",\n",
    "    #save_strategy = \"epoch\",\n",
    "    evaluation_strategy = \"steps\",\n",
    "    save_strategy = \"steps\",\n",
    "    learning_rate=2e-5,\n",
    "    #learning_rate=2e-4,\n",
    "    per_device_train_batch_size=batch_size,\n",
    "    per_device_eval_batch_size=batch_size,\n",
    "    #num_train_epochs=40,\n",
    "    num_train_epochs=25,\n",
    "    weight_decay=0.01,\n",
    "    load_best_model_at_end=True,\n",
    "    metric_for_best_model=metric_name,\n",
    "    logging_steps=250,\n",
    "    #push_to_hub=True,\n",
    ")"
   ]
  },
  {
   "cell_type": "code",
   "execution_count": 20,
   "id": "df99c2db",
   "metadata": {},
   "outputs": [],
   "source": [
    "from sklearn.metrics import f1_score, roc_auc_score, accuracy_score\n",
    "from transformers import EvalPrediction\n",
    "import torch\n",
    "    \n",
    "# source: https://jesusleal.io/2021/04/21/Longformer-multilabel-classification/\n",
    "def multi_label_metrics(predictions, labels, threshold=0.5):\n",
    "    # first, apply sigmoid on predictions which are of shape (batch_size, num_labels)\n",
    "    sigmoid = torch.nn.Sigmoid()\n",
    "    probs = sigmoid(torch.Tensor(predictions))\n",
    "    # next, use threshold to turn them into integer predictions\n",
    "    y_pred = np.zeros(probs.shape)\n",
    "    y_pred[np.where(probs >= threshold)] = 1\n",
    "    # finally, compute metrics\n",
    "    y_true = labels\n",
    "    f1_micro_average = f1_score(y_true=y_true, y_pred=y_pred, average='micro')\n",
    "    roc_auc = roc_auc_score(y_true, y_pred, average = 'micro')\n",
    "    accuracy = accuracy_score(y_true, y_pred)\n",
    "    # return as dictionary\n",
    "    metrics = {'f1': f1_micro_average,\n",
    "               'roc_auc': roc_auc,\n",
    "               'accuracy': accuracy}\n",
    "    return metrics\n",
    "\n",
    "def compute_metrics(p: EvalPrediction):\n",
    "    preds = p.predictions[0] if isinstance(p.predictions, \n",
    "            tuple) else p.predictions\n",
    "    result = multi_label_metrics(\n",
    "        predictions=preds, \n",
    "        labels=p.label_ids)\n",
    "    return result"
   ]
  },
  {
   "cell_type": "code",
   "execution_count": 21,
   "id": "b37fbd99",
   "metadata": {},
   "outputs": [
    {
     "data": {
      "text/plain": [
       "'torch.cuda.FloatTensor'"
      ]
     },
     "execution_count": 21,
     "metadata": {},
     "output_type": "execute_result"
    }
   ],
   "source": [
    "encoded_train_set[0]['labels'].type()"
   ]
  },
  {
   "cell_type": "code",
   "execution_count": 22,
   "id": "af3dbe48",
   "metadata": {},
   "outputs": [
    {
     "data": {
      "text/plain": [
       "tensor([  101,  8329,  5014,  3499,  5731,  2153,   102, 20334,  1999,  1996,\n",
       "         2197,  4403,  1997,  2166,  2003, 29582,  2063,  1998,  2036,  5260,\n",
       "         2000, 21371,  2331,  1012,   102], device='cuda:0')"
      ]
     },
     "execution_count": 22,
     "metadata": {},
     "output_type": "execute_result"
    }
   ],
   "source": [
    "encoded_train_set['input_ids'][0]"
   ]
  },
  {
   "cell_type": "code",
   "execution_count": 23,
   "id": "827c94e3",
   "metadata": {},
   "outputs": [
    {
     "data": {
      "text/plain": [
       "device(type='cuda', index=0)"
      ]
     },
     "execution_count": 23,
     "metadata": {},
     "output_type": "execute_result"
    }
   ],
   "source": [
    "encoded_train_set['input_ids'][0].device"
   ]
  },
  {
   "cell_type": "code",
   "execution_count": 24,
   "id": "65a6ad11",
   "metadata": {},
   "outputs": [
    {
     "data": {
      "text/plain": [
       "SequenceClassifierOutput(loss=tensor(0.6155, device='cuda:0',\n",
       "       grad_fn=<BinaryCrossEntropyWithLogitsBackward0>), logits=tensor([[-0.0454, -0.1194, -0.2496,  0.0541, -0.1209, -0.6509, -1.0403,  0.1844,\n",
       "          0.5214, -0.0047]], device='cuda:0', grad_fn=<AddmmBackward0>), hidden_states=None, attentions=None)"
      ]
     },
     "execution_count": 24,
     "metadata": {},
     "output_type": "execute_result"
    }
   ],
   "source": [
    "#forward pass\n",
    "outputs = model(input_ids=encoded_train_set['input_ids'][0].unsqueeze(0), labels=encoded_train_set['labels'][0].unsqueeze(0))\n",
    "outputs"
   ]
  },
  {
   "cell_type": "code",
   "execution_count": 25,
   "id": "e6e7d338",
   "metadata": {},
   "outputs": [],
   "source": [
    "trainer = Trainer(\n",
    "    model,\n",
    "    args,\n",
    "    train_dataset=encoded_train_set,\n",
    "    eval_dataset=encoded_test_set,\n",
    "    tokenizer=tokenizer,\n",
    "    compute_metrics=compute_metrics\n",
    ")"
   ]
  },
  {
   "cell_type": "code",
   "execution_count": 26,
   "id": "84b56c68",
   "metadata": {
    "scrolled": false
   },
   "outputs": [
    {
     "name": "stderr",
     "output_type": "stream",
     "text": [
      "***** Running training *****\n",
      "  Num examples = 400\n",
      "  Num Epochs = 25\n",
      "  Instantaneous batch size per device = 2\n",
      "  Total train batch size (w. parallel, distributed & accumulation) = 2\n",
      "  Gradient Accumulation steps = 1\n",
      "  Total optimization steps = 5000\n",
      "  Number of trainable parameters = 109489930\n",
      "You're using a BertTokenizerFast tokenizer. Please note that with a fast tokenizer, using the `__call__` method is faster than using a method to encode the text followed by a call to the `pad` method to get a padded encoding.\n"
     ]
    },
    {
     "data": {
      "text/html": [
       "\n",
       "    <div>\n",
       "      \n",
       "      <progress value='5000' max='5000' style='width:300px; height:20px; vertical-align: middle;'></progress>\n",
       "      [5000/5000 1:35:05, Epoch 25/25]\n",
       "    </div>\n",
       "    <table border=\"1\" class=\"dataframe\">\n",
       "  <thead>\n",
       " <tr style=\"text-align: left;\">\n",
       "      <th>Step</th>\n",
       "      <th>Training Loss</th>\n",
       "      <th>Validation Loss</th>\n",
       "      <th>F1</th>\n",
       "      <th>Roc Auc</th>\n",
       "      <th>Accuracy</th>\n",
       "    </tr>\n",
       "  </thead>\n",
       "  <tbody>\n",
       "    <tr>\n",
       "      <td>250</td>\n",
       "      <td>0.347300</td>\n",
       "      <td>0.268348</td>\n",
       "      <td>0.563877</td>\n",
       "      <td>0.702858</td>\n",
       "      <td>0.275000</td>\n",
       "    </tr>\n",
       "    <tr>\n",
       "      <td>500</td>\n",
       "      <td>0.243700</td>\n",
       "      <td>0.235607</td>\n",
       "      <td>0.665362</td>\n",
       "      <td>0.766832</td>\n",
       "      <td>0.365000</td>\n",
       "    </tr>\n",
       "    <tr>\n",
       "      <td>750</td>\n",
       "      <td>0.186300</td>\n",
       "      <td>0.200561</td>\n",
       "      <td>0.761062</td>\n",
       "      <td>0.837464</td>\n",
       "      <td>0.435000</td>\n",
       "    </tr>\n",
       "    <tr>\n",
       "      <td>1000</td>\n",
       "      <td>0.146600</td>\n",
       "      <td>0.185780</td>\n",
       "      <td>0.767888</td>\n",
       "      <td>0.844721</td>\n",
       "      <td>0.480000</td>\n",
       "    </tr>\n",
       "    <tr>\n",
       "      <td>1250</td>\n",
       "      <td>0.099100</td>\n",
       "      <td>0.171115</td>\n",
       "      <td>0.777003</td>\n",
       "      <td>0.850197</td>\n",
       "      <td>0.500000</td>\n",
       "    </tr>\n",
       "    <tr>\n",
       "      <td>1500</td>\n",
       "      <td>0.069800</td>\n",
       "      <td>0.170007</td>\n",
       "      <td>0.800687</td>\n",
       "      <td>0.867075</td>\n",
       "      <td>0.525000</td>\n",
       "    </tr>\n",
       "    <tr>\n",
       "      <td>1750</td>\n",
       "      <td>0.055200</td>\n",
       "      <td>0.176795</td>\n",
       "      <td>0.789116</td>\n",
       "      <td>0.863379</td>\n",
       "      <td>0.525000</td>\n",
       "    </tr>\n",
       "    <tr>\n",
       "      <td>2000</td>\n",
       "      <td>0.043900</td>\n",
       "      <td>0.173592</td>\n",
       "      <td>0.804089</td>\n",
       "      <td>0.871370</td>\n",
       "      <td>0.545000</td>\n",
       "    </tr>\n",
       "    <tr>\n",
       "      <td>2250</td>\n",
       "      <td>0.035400</td>\n",
       "      <td>0.174827</td>\n",
       "      <td>0.804020</td>\n",
       "      <td>0.876113</td>\n",
       "      <td>0.540000</td>\n",
       "    </tr>\n",
       "    <tr>\n",
       "      <td>2500</td>\n",
       "      <td>0.028700</td>\n",
       "      <td>0.174317</td>\n",
       "      <td>0.797997</td>\n",
       "      <td>0.873598</td>\n",
       "      <td>0.520000</td>\n",
       "    </tr>\n",
       "    <tr>\n",
       "      <td>2750</td>\n",
       "      <td>0.026800</td>\n",
       "      <td>0.180198</td>\n",
       "      <td>0.792822</td>\n",
       "      <td>0.877159</td>\n",
       "      <td>0.510000</td>\n",
       "    </tr>\n",
       "    <tr>\n",
       "      <td>3000</td>\n",
       "      <td>0.021800</td>\n",
       "      <td>0.181722</td>\n",
       "      <td>0.794069</td>\n",
       "      <td>0.875083</td>\n",
       "      <td>0.510000</td>\n",
       "    </tr>\n",
       "    <tr>\n",
       "      <td>3250</td>\n",
       "      <td>0.020000</td>\n",
       "      <td>0.181846</td>\n",
       "      <td>0.796639</td>\n",
       "      <td>0.870931</td>\n",
       "      <td>0.535000</td>\n",
       "    </tr>\n",
       "    <tr>\n",
       "      <td>3500</td>\n",
       "      <td>0.017400</td>\n",
       "      <td>0.184819</td>\n",
       "      <td>0.800000</td>\n",
       "      <td>0.877598</td>\n",
       "      <td>0.525000</td>\n",
       "    </tr>\n",
       "    <tr>\n",
       "      <td>3750</td>\n",
       "      <td>0.016800</td>\n",
       "      <td>0.184591</td>\n",
       "      <td>0.799337</td>\n",
       "      <td>0.876265</td>\n",
       "      <td>0.525000</td>\n",
       "    </tr>\n",
       "    <tr>\n",
       "      <td>4000</td>\n",
       "      <td>0.014700</td>\n",
       "      <td>0.187352</td>\n",
       "      <td>0.801964</td>\n",
       "      <td>0.881598</td>\n",
       "      <td>0.520000</td>\n",
       "    </tr>\n",
       "    <tr>\n",
       "      <td>4250</td>\n",
       "      <td>0.014000</td>\n",
       "      <td>0.186373</td>\n",
       "      <td>0.804598</td>\n",
       "      <td>0.882189</td>\n",
       "      <td>0.530000</td>\n",
       "    </tr>\n",
       "    <tr>\n",
       "      <td>4500</td>\n",
       "      <td>0.013600</td>\n",
       "      <td>0.188025</td>\n",
       "      <td>0.794702</td>\n",
       "      <td>0.874045</td>\n",
       "      <td>0.510000</td>\n",
       "    </tr>\n",
       "    <tr>\n",
       "      <td>4750</td>\n",
       "      <td>0.012800</td>\n",
       "      <td>0.189233</td>\n",
       "      <td>0.801314</td>\n",
       "      <td>0.880265</td>\n",
       "      <td>0.525000</td>\n",
       "    </tr>\n",
       "    <tr>\n",
       "      <td>5000</td>\n",
       "      <td>0.012600</td>\n",
       "      <td>0.189284</td>\n",
       "      <td>0.801980</td>\n",
       "      <td>0.879227</td>\n",
       "      <td>0.520000</td>\n",
       "    </tr>\n",
       "  </tbody>\n",
       "</table><p>"
      ],
      "text/plain": [
       "<IPython.core.display.HTML object>"
      ]
     },
     "metadata": {},
     "output_type": "display_data"
    },
    {
     "name": "stderr",
     "output_type": "stream",
     "text": [
      "***** Running Evaluation *****\n",
      "  Num examples = 200\n",
      "  Batch size = 2\n",
      "***** Running Evaluation *****\n",
      "  Num examples = 200\n",
      "  Batch size = 2\n",
      "Saving model checkpoint to bert-finetuned-sem_eval-english\\checkpoint-500\n",
      "Configuration saved in bert-finetuned-sem_eval-english\\checkpoint-500\\config.json\n",
      "Model weights saved in bert-finetuned-sem_eval-english\\checkpoint-500\\pytorch_model.bin\n",
      "tokenizer config file saved in bert-finetuned-sem_eval-english\\checkpoint-500\\tokenizer_config.json\n",
      "Special tokens file saved in bert-finetuned-sem_eval-english\\checkpoint-500\\special_tokens_map.json\n",
      "***** Running Evaluation *****\n",
      "  Num examples = 200\n",
      "  Batch size = 2\n",
      "***** Running Evaluation *****\n",
      "  Num examples = 200\n",
      "  Batch size = 2\n",
      "Saving model checkpoint to bert-finetuned-sem_eval-english\\checkpoint-1000\n",
      "Configuration saved in bert-finetuned-sem_eval-english\\checkpoint-1000\\config.json\n",
      "Model weights saved in bert-finetuned-sem_eval-english\\checkpoint-1000\\pytorch_model.bin\n",
      "tokenizer config file saved in bert-finetuned-sem_eval-english\\checkpoint-1000\\tokenizer_config.json\n",
      "Special tokens file saved in bert-finetuned-sem_eval-english\\checkpoint-1000\\special_tokens_map.json\n",
      "***** Running Evaluation *****\n",
      "  Num examples = 200\n",
      "  Batch size = 2\n",
      "***** Running Evaluation *****\n",
      "  Num examples = 200\n",
      "  Batch size = 2\n",
      "Saving model checkpoint to bert-finetuned-sem_eval-english\\checkpoint-1500\n",
      "Configuration saved in bert-finetuned-sem_eval-english\\checkpoint-1500\\config.json\n",
      "Model weights saved in bert-finetuned-sem_eval-english\\checkpoint-1500\\pytorch_model.bin\n",
      "tokenizer config file saved in bert-finetuned-sem_eval-english\\checkpoint-1500\\tokenizer_config.json\n",
      "Special tokens file saved in bert-finetuned-sem_eval-english\\checkpoint-1500\\special_tokens_map.json\n",
      "***** Running Evaluation *****\n",
      "  Num examples = 200\n",
      "  Batch size = 2\n",
      "***** Running Evaluation *****\n",
      "  Num examples = 200\n",
      "  Batch size = 2\n",
      "Saving model checkpoint to bert-finetuned-sem_eval-english\\checkpoint-2000\n",
      "Configuration saved in bert-finetuned-sem_eval-english\\checkpoint-2000\\config.json\n",
      "Model weights saved in bert-finetuned-sem_eval-english\\checkpoint-2000\\pytorch_model.bin\n",
      "tokenizer config file saved in bert-finetuned-sem_eval-english\\checkpoint-2000\\tokenizer_config.json\n",
      "Special tokens file saved in bert-finetuned-sem_eval-english\\checkpoint-2000\\special_tokens_map.json\n",
      "***** Running Evaluation *****\n",
      "  Num examples = 200\n",
      "  Batch size = 2\n",
      "***** Running Evaluation *****\n",
      "  Num examples = 200\n",
      "  Batch size = 2\n",
      "Saving model checkpoint to bert-finetuned-sem_eval-english\\checkpoint-2500\n",
      "Configuration saved in bert-finetuned-sem_eval-english\\checkpoint-2500\\config.json\n",
      "Model weights saved in bert-finetuned-sem_eval-english\\checkpoint-2500\\pytorch_model.bin\n",
      "tokenizer config file saved in bert-finetuned-sem_eval-english\\checkpoint-2500\\tokenizer_config.json\n",
      "Special tokens file saved in bert-finetuned-sem_eval-english\\checkpoint-2500\\special_tokens_map.json\n",
      "***** Running Evaluation *****\n",
      "  Num examples = 200\n",
      "  Batch size = 2\n",
      "***** Running Evaluation *****\n",
      "  Num examples = 200\n",
      "  Batch size = 2\n",
      "Saving model checkpoint to bert-finetuned-sem_eval-english\\checkpoint-3000\n",
      "Configuration saved in bert-finetuned-sem_eval-english\\checkpoint-3000\\config.json\n",
      "Model weights saved in bert-finetuned-sem_eval-english\\checkpoint-3000\\pytorch_model.bin\n",
      "tokenizer config file saved in bert-finetuned-sem_eval-english\\checkpoint-3000\\tokenizer_config.json\n",
      "Special tokens file saved in bert-finetuned-sem_eval-english\\checkpoint-3000\\special_tokens_map.json\n",
      "***** Running Evaluation *****\n",
      "  Num examples = 200\n",
      "  Batch size = 2\n",
      "***** Running Evaluation *****\n",
      "  Num examples = 200\n",
      "  Batch size = 2\n",
      "Saving model checkpoint to bert-finetuned-sem_eval-english\\checkpoint-3500\n",
      "Configuration saved in bert-finetuned-sem_eval-english\\checkpoint-3500\\config.json\n",
      "Model weights saved in bert-finetuned-sem_eval-english\\checkpoint-3500\\pytorch_model.bin\n",
      "tokenizer config file saved in bert-finetuned-sem_eval-english\\checkpoint-3500\\tokenizer_config.json\n",
      "Special tokens file saved in bert-finetuned-sem_eval-english\\checkpoint-3500\\special_tokens_map.json\n",
      "***** Running Evaluation *****\n",
      "  Num examples = 200\n",
      "  Batch size = 2\n",
      "***** Running Evaluation *****\n",
      "  Num examples = 200\n",
      "  Batch size = 2\n",
      "Saving model checkpoint to bert-finetuned-sem_eval-english\\checkpoint-4000\n",
      "Configuration saved in bert-finetuned-sem_eval-english\\checkpoint-4000\\config.json\n",
      "Model weights saved in bert-finetuned-sem_eval-english\\checkpoint-4000\\pytorch_model.bin\n",
      "tokenizer config file saved in bert-finetuned-sem_eval-english\\checkpoint-4000\\tokenizer_config.json\n",
      "Special tokens file saved in bert-finetuned-sem_eval-english\\checkpoint-4000\\special_tokens_map.json\n",
      "***** Running Evaluation *****\n",
      "  Num examples = 200\n",
      "  Batch size = 2\n",
      "***** Running Evaluation *****\n",
      "  Num examples = 200\n",
      "  Batch size = 2\n",
      "Saving model checkpoint to bert-finetuned-sem_eval-english\\checkpoint-4500\n",
      "Configuration saved in bert-finetuned-sem_eval-english\\checkpoint-4500\\config.json\n",
      "Model weights saved in bert-finetuned-sem_eval-english\\checkpoint-4500\\pytorch_model.bin\n",
      "tokenizer config file saved in bert-finetuned-sem_eval-english\\checkpoint-4500\\tokenizer_config.json\n",
      "Special tokens file saved in bert-finetuned-sem_eval-english\\checkpoint-4500\\special_tokens_map.json\n",
      "***** Running Evaluation *****\n",
      "  Num examples = 200\n",
      "  Batch size = 2\n",
      "***** Running Evaluation *****\n",
      "  Num examples = 200\n",
      "  Batch size = 2\n",
      "Saving model checkpoint to bert-finetuned-sem_eval-english\\checkpoint-5000\n",
      "Configuration saved in bert-finetuned-sem_eval-english\\checkpoint-5000\\config.json\n",
      "Model weights saved in bert-finetuned-sem_eval-english\\checkpoint-5000\\pytorch_model.bin\n",
      "tokenizer config file saved in bert-finetuned-sem_eval-english\\checkpoint-5000\\tokenizer_config.json\n",
      "Special tokens file saved in bert-finetuned-sem_eval-english\\checkpoint-5000\\special_tokens_map.json\n",
      "\n",
      "\n",
      "Training completed. Do not forget to share your model on huggingface.co/models =)\n",
      "\n",
      "\n",
      "Loading best model from bert-finetuned-sem_eval-english\\checkpoint-2000 (score: 0.8040885860306644).\n"
     ]
    },
    {
     "data": {
      "text/plain": [
       "TrainOutput(global_step=5000, training_loss=0.07133290915489197, metrics={'train_runtime': 5706.7387, 'train_samples_per_second': 1.752, 'train_steps_per_second': 0.876, 'total_flos': 344289099584640.0, 'train_loss': 0.07133290915489197, 'epoch': 25.0})"
      ]
     },
     "execution_count": 26,
     "metadata": {},
     "output_type": "execute_result"
    }
   ],
   "source": [
    "trainer.train()"
   ]
  },
  {
   "cell_type": "markdown",
   "id": "fe9aa0dc",
   "metadata": {},
   "source": [
    "# Evaluate"
   ]
  },
  {
   "cell_type": "code",
   "execution_count": 27,
   "id": "a0d50392",
   "metadata": {
    "scrolled": true
   },
   "outputs": [
    {
     "name": "stderr",
     "output_type": "stream",
     "text": [
      "***** Running Evaluation *****\n",
      "  Num examples = 200\n",
      "  Batch size = 2\n"
     ]
    },
    {
     "data": {
      "text/html": [],
      "text/plain": [
       "<IPython.core.display.HTML object>"
      ]
     },
     "metadata": {},
     "output_type": "display_data"
    },
    {
     "data": {
      "text/plain": [
       "{'eval_loss': 0.17359186708927155,\n",
       " 'eval_f1': 0.8040885860306644,\n",
       " 'eval_roc_auc': 0.8713701368539936,\n",
       " 'eval_accuracy': 0.545,\n",
       " 'eval_runtime': 11.3808,\n",
       " 'eval_samples_per_second': 17.573,\n",
       " 'eval_steps_per_second': 8.787,\n",
       " 'epoch': 25.0}"
      ]
     },
     "execution_count": 27,
     "metadata": {},
     "output_type": "execute_result"
    }
   ],
   "source": [
    "trainer.evaluate()"
   ]
  },
  {
   "cell_type": "markdown",
   "id": "3dc88947",
   "metadata": {},
   "source": [
    "# Inference"
   ]
  },
  {
   "cell_type": "code",
   "execution_count": 28,
   "id": "c4cd0bda",
   "metadata": {},
   "outputs": [
    {
     "name": "stderr",
     "output_type": "stream",
     "text": [
      "***** Running Prediction *****\n",
      "  Num examples = 200\n",
      "  Batch size = 2\n"
     ]
    }
   ],
   "source": [
    "test_pred=trainer.predict(encoded_test_set).predictions\n",
    "test_pred = torch.from_numpy(test_pred)"
   ]
  },
  {
   "cell_type": "code",
   "execution_count": 29,
   "id": "e0a87e21",
   "metadata": {},
   "outputs": [
    {
     "data": {
      "text/plain": [
       "0    68\n",
       "1    40\n",
       "2    26\n",
       "3    12\n",
       "4     7\n",
       "5    24\n",
       "6     4\n",
       "7     5\n",
       "8    69\n",
       "9    25\n",
       "dtype: int64"
      ]
     },
     "execution_count": 29,
     "metadata": {},
     "output_type": "execute_result"
    }
   ],
   "source": [
    "pd.DataFrame(1*(test_pred.sigmoid()>0.5)).sum(axis=0)"
   ]
  },
  {
   "cell_type": "code",
   "execution_count": 30,
   "id": "ef711a3f",
   "metadata": {},
   "outputs": [
    {
     "name": "stdout",
     "output_type": "stream",
     "text": [
      "              precision    recall  f1-score   support\n",
      "\n",
      "           0       0.91      0.97      0.94        64\n",
      "           1       0.95      0.93      0.94        41\n",
      "           2       0.77      0.95      0.85        21\n",
      "           3       0.50      0.43      0.46        14\n",
      "           4       1.00      0.50      0.67        14\n",
      "           5       0.67      0.48      0.56        33\n",
      "           6       0.50      0.50      0.50         4\n",
      "           7       1.00      0.31      0.48        16\n",
      "           8       0.81      0.84      0.82        67\n",
      "           9       0.96      0.73      0.83        33\n",
      "\n",
      "   micro avg       0.84      0.77      0.80       307\n",
      "   macro avg       0.81      0.66      0.70       307\n",
      "weighted avg       0.85      0.77      0.79       307\n",
      " samples avg       0.78      0.72      0.73       307\n",
      "\n"
     ]
    }
   ],
   "source": [
    "from sklearn.metrics import  classification_report\n",
    "\n",
    "print(classification_report(PVE_input[PVE_input['BL_batch']==-1].iloc[:, 5:15],np.matrix(1*(test_pred.sigmoid()>0.5))))"
   ]
  },
  {
   "cell_type": "code",
   "execution_count": 31,
   "id": "524f1f06",
   "metadata": {},
   "outputs": [
    {
     "data": {
      "text/plain": [
       "array([[[130,   6],\n",
       "        [  2,  62]],\n",
       "\n",
       "       [[157,   2],\n",
       "        [  3,  38]],\n",
       "\n",
       "       [[173,   6],\n",
       "        [  1,  20]],\n",
       "\n",
       "       [[180,   6],\n",
       "        [  8,   6]],\n",
       "\n",
       "       [[186,   0],\n",
       "        [  7,   7]],\n",
       "\n",
       "       [[159,   8],\n",
       "        [ 17,  16]],\n",
       "\n",
       "       [[194,   2],\n",
       "        [  2,   2]],\n",
       "\n",
       "       [[184,   0],\n",
       "        [ 11,   5]],\n",
       "\n",
       "       [[120,  13],\n",
       "        [ 11,  56]],\n",
       "\n",
       "       [[166,   1],\n",
       "        [  9,  24]]], dtype=int64)"
      ]
     },
     "execution_count": 31,
     "metadata": {},
     "output_type": "execute_result"
    }
   ],
   "source": [
    "from sklearn.metrics import multilabel_confusion_matrix\n",
    "multilabel_confusion_matrix(PVE_input[PVE_input['BL_batch']==-1].iloc[:, 5:15],np.matrix(1*(test_pred.sigmoid()>0.5)))"
   ]
  },
  {
   "cell_type": "code",
   "execution_count": 32,
   "id": "e73a9a6f",
   "metadata": {
    "scrolled": true
   },
   "outputs": [
    {
     "name": "stderr",
     "output_type": "stream",
     "text": [
      "Configuration saved in models\\config.json\n",
      "Model weights saved in models\\pytorch_model.bin\n"
     ]
    }
   ],
   "source": [
    "model.save_pretrained('models')"
   ]
  },
  {
   "cell_type": "code",
   "execution_count": null,
   "id": "83b588f1",
   "metadata": {},
   "outputs": [],
   "source": []
  }
 ],
 "metadata": {
  "kernelspec": {
   "display_name": "Python 3 (ipykernel)",
   "language": "python",
   "name": "python3"
  },
  "language_info": {
   "codemirror_mode": {
    "name": "ipython",
    "version": 3
   },
   "file_extension": ".py",
   "mimetype": "text/x-python",
   "name": "python",
   "nbconvert_exporter": "python",
   "pygments_lexer": "ipython3",
   "version": "3.10.9"
  }
 },
 "nbformat": 4,
 "nbformat_minor": 5
}
