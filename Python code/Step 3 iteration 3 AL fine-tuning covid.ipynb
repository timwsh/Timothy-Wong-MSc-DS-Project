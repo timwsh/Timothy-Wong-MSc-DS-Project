{
 "cells": [
  {
   "cell_type": "code",
   "execution_count": 1,
   "id": "6c1bcd3e",
   "metadata": {},
   "outputs": [],
   "source": [
    "import warnings\n",
    "warnings.filterwarnings('ignore')"
   ]
  },
  {
   "cell_type": "code",
   "execution_count": 2,
   "id": "ad00df62",
   "metadata": {},
   "outputs": [],
   "source": [
    "import pandas as pd\n",
    "import numpy as np\n",
    "import os\n",
    "#import json\n",
    "import torch\n",
    "\n",
    "import time\n",
    "\n",
    "from tqdm import tqdm"
   ]
  },
  {
   "cell_type": "code",
   "execution_count": 3,
   "id": "d064c409",
   "metadata": {},
   "outputs": [],
   "source": [
    "###setting directory\n",
    "data_dir=\"data\"\n",
    "model_dir=\"models\"\n",
    "output_dir=\"output\"\n",
    "###"
   ]
  },
  {
   "cell_type": "markdown",
   "id": "d9f5c706",
   "metadata": {},
   "source": [
    "# Finetune model: load dataset"
   ]
  },
  {
   "cell_type": "code",
   "execution_count": 4,
   "id": "c2138833",
   "metadata": {},
   "outputs": [],
   "source": [
    "#change\n",
    "from datasets import Dataset\n",
    "#PVE_input = Dataset.from_pandas(pd.read_csv('data\\PVE_covid_annotation_v0_1.csv', encoding='latin1',index_col=0))\n",
    "PVE_input =pd.read_excel('data\\PVE_covid_annotation_v3_annotated.xlsx', index_col=0)\n",
    "train_set=Dataset.from_pandas(PVE_input[(PVE_input['AL_batch']>=0) & (PVE_input['AL_batch']<=3)])\n",
    "test_set=Dataset.from_pandas(PVE_input[PVE_input['BL_batch']==-1])"
   ]
  },
  {
   "cell_type": "code",
   "execution_count": 5,
   "id": "ab2c4153",
   "metadata": {},
   "outputs": [
    {
     "data": {
      "text/plain": [
       "Dataset({\n",
       "    features: ['opinion', 'project', 'random_order', 'BL_batch', 'AL_batch', 'Autonomy_for_companies', 'Autonomy_for_close_contact_professions', 'Quality_of_life_for_elderly', 'Family_value', 'Feasibility', 'Acceptance_of_exception', 'The_need_of_schooling', 'Working_safety', 'Well-being', 'Reduce_adverse_effect', 'step_0_margin', 'step_0_rank', 'step_1_margin', 'step_1_rank', 'step_2_margin', 'step_2_rank', 'step_3_margin', 'step_3_rank', 'step_4_margin', 'step_4_rank', 'step_5_margin', 'step_5_rank', 'step_6_margin', 'step_6_rank', 'step_7_margin', 'step_7_rank', 'step_8_margin', 'step_8_rank', 'step_9_margin', 'step_9_rank', '__index_level_0__'],\n",
       "    num_rows: 200\n",
       "})"
      ]
     },
     "execution_count": 5,
     "metadata": {},
     "output_type": "execute_result"
    }
   ],
   "source": [
    "train_set"
   ]
  },
  {
   "cell_type": "code",
   "execution_count": 6,
   "id": "0472546c",
   "metadata": {},
   "outputs": [],
   "source": [
    "labels = ['Autonomy_for_companies',\n",
    " 'Autonomy_for_close_contact_professions',\n",
    " 'Quality_of_life_for_elderly',\n",
    " 'Family_value',\n",
    " 'Feasibility',\n",
    " 'Acceptance_of_exception',\n",
    " 'The_need_of_schooling',\n",
    " 'Working_safety',\n",
    " 'Well-being',\n",
    " 'Reduce_adverse_effect']"
   ]
  },
  {
   "cell_type": "code",
   "execution_count": 7,
   "id": "6a06e4f3",
   "metadata": {},
   "outputs": [],
   "source": [
    "id2label = {idx:label for idx, label in enumerate(labels)}\n",
    "label2id = {label:idx for idx, label in enumerate(labels)}"
   ]
  },
  {
   "cell_type": "code",
   "execution_count": 8,
   "id": "105938d9",
   "metadata": {},
   "outputs": [
    {
     "data": {
      "text/plain": [
       "{'Autonomy_for_companies': 0,\n",
       " 'Autonomy_for_close_contact_professions': 1,\n",
       " 'Quality_of_life_for_elderly': 2,\n",
       " 'Family_value': 3,\n",
       " 'Feasibility': 4,\n",
       " 'Acceptance_of_exception': 5,\n",
       " 'The_need_of_schooling': 6,\n",
       " 'Working_safety': 7,\n",
       " 'Well-being': 8,\n",
       " 'Reduce_adverse_effect': 9}"
      ]
     },
     "execution_count": 8,
     "metadata": {},
     "output_type": "execute_result"
    }
   ],
   "source": [
    "label2id "
   ]
  },
  {
   "cell_type": "markdown",
   "id": "da750370",
   "metadata": {},
   "source": [
    "# Preprocess data"
   ]
  },
  {
   "cell_type": "code",
   "execution_count": 9,
   "id": "9b309f62",
   "metadata": {},
   "outputs": [],
   "source": [
    "from transformers import AutoTokenizer\n",
    "import numpy as np\n",
    "\n",
    "tokenizer = AutoTokenizer.from_pretrained(\"bert-base-uncased\")\n",
    "\n",
    "def preprocess_data(examples):\n",
    "    # take a batch of texts\n",
    "    #text = examples[\"Tweet\"]\n",
    "    # encode them\n",
    "    encoding = tokenizer(examples['project'], examples['opinion'], truncation=True)\n",
    "    # add labels\n",
    "    labels_batch = {k: examples[k] for k in examples.keys() if k in labels}\n",
    "    # create numpy array of shape (batch_size, num_labels)\n",
    "    labels_matrix = np.zeros((len(examples['opinion']), len(labels)))\n",
    "    # fill numpy array\n",
    "    for idx, label in enumerate(labels):\n",
    "        labels_matrix[:, idx] = labels_batch[label]\n",
    "\n",
    "    encoding[\"labels\"] = labels_matrix.tolist()\n",
    "  \n",
    "    return encoding\n"
   ]
  },
  {
   "cell_type": "code",
   "execution_count": 10,
   "id": "79c70b00",
   "metadata": {},
   "outputs": [
    {
     "data": {
      "application/vnd.jupyter.widget-view+json": {
       "model_id": "",
       "version_major": 2,
       "version_minor": 0
      },
      "text/plain": [
       "Map:   0%|          | 0/200 [00:00<?, ? examples/s]"
      ]
     },
     "metadata": {},
     "output_type": "display_data"
    },
    {
     "data": {
      "application/vnd.jupyter.widget-view+json": {
       "model_id": "",
       "version_major": 2,
       "version_minor": 0
      },
      "text/plain": [
       "Map:   0%|          | 0/200 [00:00<?, ? examples/s]"
      ]
     },
     "metadata": {},
     "output_type": "display_data"
    }
   ],
   "source": [
    "encoded_train_set = train_set.map(preprocess_data, batched=True, remove_columns=train_set.column_names)\n",
    "encoded_test_set = test_set.map(preprocess_data, batched=True, remove_columns=test_set.column_names)"
   ]
  },
  {
   "cell_type": "code",
   "execution_count": 11,
   "id": "0ff25631",
   "metadata": {},
   "outputs": [
    {
     "name": "stdout",
     "output_type": "stream",
     "text": [
      "dict_keys(['input_ids', 'token_type_ids', 'attention_mask', 'labels'])\n"
     ]
    }
   ],
   "source": [
    "example =encoded_train_set[0]\n",
    "print(example.keys())"
   ]
  },
  {
   "cell_type": "code",
   "execution_count": 12,
   "id": "45d7c7de",
   "metadata": {},
   "outputs": [
    {
     "data": {
      "text/plain": [
       "'[CLS] nursing homes allow visitors again [SEP] loneliness in the last phase of life is inhumane and also leads to premature death. [SEP]'"
      ]
     },
     "execution_count": 12,
     "metadata": {},
     "output_type": "execute_result"
    }
   ],
   "source": [
    "tokenizer.decode(example['input_ids'])"
   ]
  },
  {
   "cell_type": "code",
   "execution_count": 13,
   "id": "7b2f1203",
   "metadata": {},
   "outputs": [
    {
     "data": {
      "text/plain": [
       "[0.0, 0.0, 1.0, 0.0, 0.0, 0.0, 0.0, 0.0, 1.0, 0.0]"
      ]
     },
     "execution_count": 13,
     "metadata": {},
     "output_type": "execute_result"
    }
   ],
   "source": [
    "example['labels']"
   ]
  },
  {
   "cell_type": "code",
   "execution_count": 14,
   "id": "7bf7fda2",
   "metadata": {},
   "outputs": [
    {
     "data": {
      "text/plain": [
       "['Quality_of_life_for_elderly', 'Well-being']"
      ]
     },
     "execution_count": 14,
     "metadata": {},
     "output_type": "execute_result"
    }
   ],
   "source": [
    "[id2label[idx] for idx, label in enumerate(example['labels']) if label == 1.0]"
   ]
  },
  {
   "cell_type": "code",
   "execution_count": 15,
   "id": "32b36447",
   "metadata": {},
   "outputs": [
    {
     "name": "stdout",
     "output_type": "stream",
     "text": [
      "There are 1 GPU(s) available.\n",
      "We will use the GPU: NVIDIA GeForce MX550\n"
     ]
    }
   ],
   "source": [
    "if torch.cuda.is_available():\n",
    "    print(f'There are {torch.cuda.device_count()} GPU(s) available.')\n",
    "    print(f'We will use the GPU: {torch.cuda.get_device_name(0)}')\n",
    "    encoded_train_set.set_format(\"torch\", device='cuda:0')\n",
    "    encoded_test_set.set_format(\"torch\", device='cuda:0')\n",
    "else:\n",
    "    encoded_train_set.set_format(\"torch\")\n",
    "    encoded_test_set.set_format(\"torch\")\n",
    "    print('No GPU available, using the CPU instead.')\n"
   ]
  },
  {
   "cell_type": "markdown",
   "id": "8c59de53",
   "metadata": {},
   "source": [
    "# Define model"
   ]
  },
  {
   "cell_type": "code",
   "execution_count": 16,
   "id": "59d28a91",
   "metadata": {},
   "outputs": [
    {
     "name": "stderr",
     "output_type": "stream",
     "text": [
      "Some weights of BertForSequenceClassification were not initialized from the model checkpoint at ./models/bert_train_level1/ and are newly initialized because the shapes did not match:\n",
      "- classifier.weight: found shape torch.Size([54, 768]) in the checkpoint and torch.Size([10, 768]) in the model instantiated\n",
      "- classifier.bias: found shape torch.Size([54]) in the checkpoint and torch.Size([10]) in the model instantiated\n",
      "You should probably TRAIN this model on a down-stream task to be able to use it for predictions and inference.\n"
     ]
    }
   ],
   "source": [
    "from transformers import AutoModelForSequenceClassification\n",
    "\n",
    "model = AutoModelForSequenceClassification.from_pretrained('./models/bert_train_level1/' , \n",
    "                                                           problem_type=\"multi_label_classification\", \n",
    "                                                           num_labels=len(labels),\n",
    "                                                           id2label=id2label,\n",
    "                                                           label2id=label2id, ignore_mismatched_sizes=True)"
   ]
  },
  {
   "cell_type": "code",
   "execution_count": 17,
   "id": "55016543",
   "metadata": {},
   "outputs": [
    {
     "name": "stdout",
     "output_type": "stream",
     "text": [
      "There are 1 GPU(s) available.\n",
      "We will use the GPU: NVIDIA GeForce MX550\n"
     ]
    }
   ],
   "source": [
    "if torch.cuda.is_available():\n",
    "    print(f'There are {torch.cuda.device_count()} GPU(s) available.')\n",
    "    print(f'We will use the GPU: {torch.cuda.get_device_name(0)}')\n",
    "    model.to('cuda')\n",
    "else:    \n",
    "    print('No GPU available, using the CPU instead.')\n"
   ]
  },
  {
   "cell_type": "markdown",
   "id": "23eff6e8",
   "metadata": {},
   "source": [
    "# Train the model"
   ]
  },
  {
   "cell_type": "code",
   "execution_count": 18,
   "id": "343f1973",
   "metadata": {},
   "outputs": [],
   "source": [
    "batch_size = 8\n",
    "metric_name = \"f1\""
   ]
  },
  {
   "cell_type": "code",
   "execution_count": 19,
   "id": "bce541cb",
   "metadata": {
    "scrolled": true
   },
   "outputs": [],
   "source": [
    "from transformers import TrainingArguments, Trainer\n",
    "\n",
    "args = TrainingArguments(\n",
    "    f\"bert-finetuned-sem_eval-english\",\n",
    "    #evaluation_strategy = \"epoch\",\n",
    "    #save_strategy = \"epoch\",\n",
    "    evaluation_strategy = \"steps\",\n",
    "    save_strategy = \"steps\",\n",
    "    #learning_rate=2e-5,\n",
    "    learning_rate=2e-4,\n",
    "    per_device_train_batch_size=batch_size,\n",
    "    per_device_eval_batch_size=batch_size,\n",
    "    #num_train_epochs=40,\n",
    "    num_train_epochs=20,\n",
    "    weight_decay=0.01,\n",
    "    load_best_model_at_end=True,\n",
    "    metric_for_best_model=metric_name,\n",
    "    logging_steps=50,\n",
    "    #push_to_hub=True,\n",
    ")"
   ]
  },
  {
   "cell_type": "code",
   "execution_count": 20,
   "id": "df99c2db",
   "metadata": {},
   "outputs": [],
   "source": [
    "from sklearn.metrics import f1_score, roc_auc_score, accuracy_score\n",
    "from transformers import EvalPrediction\n",
    "import torch\n",
    "    \n",
    "# source: https://jesusleal.io/2021/04/21/Longformer-multilabel-classification/\n",
    "def multi_label_metrics(predictions, labels, threshold=0.5):\n",
    "    # first, apply sigmoid on predictions which are of shape (batch_size, num_labels)\n",
    "    sigmoid = torch.nn.Sigmoid()\n",
    "    probs = sigmoid(torch.Tensor(predictions))\n",
    "    # next, use threshold to turn them into integer predictions\n",
    "    y_pred = np.zeros(probs.shape)\n",
    "    y_pred[np.where(probs >= threshold)] = 1\n",
    "    # finally, compute metrics\n",
    "    y_true = labels\n",
    "    f1_micro_average = f1_score(y_true=y_true, y_pred=y_pred, average='micro')\n",
    "    roc_auc = roc_auc_score(y_true, y_pred, average = 'micro')\n",
    "    accuracy = accuracy_score(y_true, y_pred)\n",
    "    # return as dictionary\n",
    "    metrics = {'f1': f1_micro_average,\n",
    "               'roc_auc': roc_auc,\n",
    "               'accuracy': accuracy}\n",
    "    return metrics\n",
    "\n",
    "def compute_metrics(p: EvalPrediction):\n",
    "    preds = p.predictions[0] if isinstance(p.predictions, \n",
    "            tuple) else p.predictions\n",
    "    result = multi_label_metrics(\n",
    "        predictions=preds, \n",
    "        labels=p.label_ids)\n",
    "    return result"
   ]
  },
  {
   "cell_type": "code",
   "execution_count": 21,
   "id": "b37fbd99",
   "metadata": {},
   "outputs": [
    {
     "data": {
      "text/plain": [
       "'torch.cuda.FloatTensor'"
      ]
     },
     "execution_count": 21,
     "metadata": {},
     "output_type": "execute_result"
    }
   ],
   "source": [
    "encoded_train_set[0]['labels'].type()"
   ]
  },
  {
   "cell_type": "code",
   "execution_count": 22,
   "id": "af3dbe48",
   "metadata": {},
   "outputs": [
    {
     "data": {
      "text/plain": [
       "tensor([  101,  8329,  5014,  3499,  5731,  2153,   102, 20334,  1999,  1996,\n",
       "         2197,  4403,  1997,  2166,  2003, 29582,  2063,  1998,  2036,  5260,\n",
       "         2000, 21371,  2331,  1012,   102], device='cuda:0')"
      ]
     },
     "execution_count": 22,
     "metadata": {},
     "output_type": "execute_result"
    }
   ],
   "source": [
    "encoded_train_set['input_ids'][0]"
   ]
  },
  {
   "cell_type": "code",
   "execution_count": 23,
   "id": "827c94e3",
   "metadata": {},
   "outputs": [
    {
     "data": {
      "text/plain": [
       "device(type='cuda', index=0)"
      ]
     },
     "execution_count": 23,
     "metadata": {},
     "output_type": "execute_result"
    }
   ],
   "source": [
    "encoded_train_set['input_ids'][0].device"
   ]
  },
  {
   "cell_type": "code",
   "execution_count": 24,
   "id": "65a6ad11",
   "metadata": {},
   "outputs": [
    {
     "data": {
      "text/plain": [
       "SequenceClassifierOutput(loss=tensor(0.8118, device='cuda:0',\n",
       "       grad_fn=<BinaryCrossEntropyWithLogitsBackward0>), logits=tensor([[ 0.3665,  0.7400, -0.3837, -0.2187, -0.2260,  0.2424,  0.1345, -0.0331,\n",
       "         -0.1891,  0.4800]], device='cuda:0', grad_fn=<AddmmBackward0>), hidden_states=None, attentions=None)"
      ]
     },
     "execution_count": 24,
     "metadata": {},
     "output_type": "execute_result"
    }
   ],
   "source": [
    "#forward pass\n",
    "outputs = model(input_ids=encoded_train_set['input_ids'][0].unsqueeze(0), labels=encoded_train_set['labels'][0].unsqueeze(0))\n",
    "outputs"
   ]
  },
  {
   "cell_type": "code",
   "execution_count": 25,
   "id": "e6e7d338",
   "metadata": {},
   "outputs": [],
   "source": [
    "trainer = Trainer(\n",
    "    model,\n",
    "    args,\n",
    "    train_dataset=encoded_train_set,\n",
    "    eval_dataset=encoded_test_set,\n",
    "    tokenizer=tokenizer,\n",
    "    compute_metrics=compute_metrics\n",
    ")"
   ]
  },
  {
   "cell_type": "code",
   "execution_count": 26,
   "id": "84b56c68",
   "metadata": {
    "scrolled": false
   },
   "outputs": [
    {
     "name": "stderr",
     "output_type": "stream",
     "text": [
      "***** Running training *****\n",
      "  Num examples = 200\n",
      "  Num Epochs = 20\n",
      "  Instantaneous batch size per device = 8\n",
      "  Total train batch size (w. parallel, distributed & accumulation) = 8\n",
      "  Gradient Accumulation steps = 1\n",
      "  Total optimization steps = 500\n",
      "  Number of trainable parameters = 109489930\n",
      "You're using a BertTokenizerFast tokenizer. Please note that with a fast tokenizer, using the `__call__` method is faster than using a method to encode the text followed by a call to the `pad` method to get a padded encoding.\n"
     ]
    },
    {
     "data": {
      "text/html": [
       "\n",
       "    <div>\n",
       "      \n",
       "      <progress value='500' max='500' style='width:300px; height:20px; vertical-align: middle;'></progress>\n",
       "      [500/500 34:42, Epoch 20/20]\n",
       "    </div>\n",
       "    <table border=\"1\" class=\"dataframe\">\n",
       "  <thead>\n",
       " <tr style=\"text-align: left;\">\n",
       "      <th>Step</th>\n",
       "      <th>Training Loss</th>\n",
       "      <th>Validation Loss</th>\n",
       "      <th>F1</th>\n",
       "      <th>Roc Auc</th>\n",
       "      <th>Accuracy</th>\n",
       "    </tr>\n",
       "  </thead>\n",
       "  <tbody>\n",
       "    <tr>\n",
       "      <td>50</td>\n",
       "      <td>0.348000</td>\n",
       "      <td>0.258630</td>\n",
       "      <td>0.589391</td>\n",
       "      <td>0.728942</td>\n",
       "      <td>0.245000</td>\n",
       "    </tr>\n",
       "    <tr>\n",
       "      <td>100</td>\n",
       "      <td>0.248900</td>\n",
       "      <td>0.247265</td>\n",
       "      <td>0.591093</td>\n",
       "      <td>0.725676</td>\n",
       "      <td>0.280000</td>\n",
       "    </tr>\n",
       "    <tr>\n",
       "      <td>150</td>\n",
       "      <td>0.208900</td>\n",
       "      <td>0.222467</td>\n",
       "      <td>0.695811</td>\n",
       "      <td>0.796013</td>\n",
       "      <td>0.335000</td>\n",
       "    </tr>\n",
       "    <tr>\n",
       "      <td>200</td>\n",
       "      <td>0.155400</td>\n",
       "      <td>0.240909</td>\n",
       "      <td>0.658979</td>\n",
       "      <td>0.796200</td>\n",
       "      <td>0.285000</td>\n",
       "    </tr>\n",
       "    <tr>\n",
       "      <td>250</td>\n",
       "      <td>0.113500</td>\n",
       "      <td>0.202618</td>\n",
       "      <td>0.763025</td>\n",
       "      <td>0.851691</td>\n",
       "      <td>0.450000</td>\n",
       "    </tr>\n",
       "    <tr>\n",
       "      <td>300</td>\n",
       "      <td>0.079700</td>\n",
       "      <td>0.199870</td>\n",
       "      <td>0.771285</td>\n",
       "      <td>0.858206</td>\n",
       "      <td>0.445000</td>\n",
       "    </tr>\n",
       "    <tr>\n",
       "      <td>350</td>\n",
       "      <td>0.059800</td>\n",
       "      <td>0.202275</td>\n",
       "      <td>0.773869</td>\n",
       "      <td>0.858797</td>\n",
       "      <td>0.465000</td>\n",
       "    </tr>\n",
       "    <tr>\n",
       "      <td>400</td>\n",
       "      <td>0.046600</td>\n",
       "      <td>0.202181</td>\n",
       "      <td>0.770270</td>\n",
       "      <td>0.854501</td>\n",
       "      <td>0.475000</td>\n",
       "    </tr>\n",
       "    <tr>\n",
       "      <td>450</td>\n",
       "      <td>0.034000</td>\n",
       "      <td>0.196693</td>\n",
       "      <td>0.778523</td>\n",
       "      <td>0.861016</td>\n",
       "      <td>0.480000</td>\n",
       "    </tr>\n",
       "    <tr>\n",
       "      <td>500</td>\n",
       "      <td>0.029900</td>\n",
       "      <td>0.194928</td>\n",
       "      <td>0.783920</td>\n",
       "      <td>0.864569</td>\n",
       "      <td>0.495000</td>\n",
       "    </tr>\n",
       "  </tbody>\n",
       "</table><p>"
      ],
      "text/plain": [
       "<IPython.core.display.HTML object>"
      ]
     },
     "metadata": {},
     "output_type": "display_data"
    },
    {
     "name": "stderr",
     "output_type": "stream",
     "text": [
      "***** Running Evaluation *****\n",
      "  Num examples = 200\n",
      "  Batch size = 8\n",
      "***** Running Evaluation *****\n",
      "  Num examples = 200\n",
      "  Batch size = 8\n",
      "***** Running Evaluation *****\n",
      "  Num examples = 200\n",
      "  Batch size = 8\n",
      "***** Running Evaluation *****\n",
      "  Num examples = 200\n",
      "  Batch size = 8\n",
      "***** Running Evaluation *****\n",
      "  Num examples = 200\n",
      "  Batch size = 8\n",
      "***** Running Evaluation *****\n",
      "  Num examples = 200\n",
      "  Batch size = 8\n",
      "***** Running Evaluation *****\n",
      "  Num examples = 200\n",
      "  Batch size = 8\n",
      "***** Running Evaluation *****\n",
      "  Num examples = 200\n",
      "  Batch size = 8\n",
      "***** Running Evaluation *****\n",
      "  Num examples = 200\n",
      "  Batch size = 8\n",
      "***** Running Evaluation *****\n",
      "  Num examples = 200\n",
      "  Batch size = 8\n",
      "Saving model checkpoint to bert-finetuned-sem_eval-english\\checkpoint-500\n",
      "Configuration saved in bert-finetuned-sem_eval-english\\checkpoint-500\\config.json\n",
      "Model weights saved in bert-finetuned-sem_eval-english\\checkpoint-500\\pytorch_model.bin\n",
      "tokenizer config file saved in bert-finetuned-sem_eval-english\\checkpoint-500\\tokenizer_config.json\n",
      "Special tokens file saved in bert-finetuned-sem_eval-english\\checkpoint-500\\special_tokens_map.json\n",
      "\n",
      "\n",
      "Training completed. Do not forget to share your model on huggingface.co/models =)\n",
      "\n",
      "\n",
      "Loading best model from bert-finetuned-sem_eval-english\\checkpoint-500 (score: 0.7839195979899497).\n"
     ]
    },
    {
     "data": {
      "text/plain": [
       "TrainOutput(global_step=500, training_loss=0.1324623610973358, metrics={'train_runtime': 2083.1943, 'train_samples_per_second': 1.92, 'train_steps_per_second': 0.24, 'total_flos': 219627172327584.0, 'train_loss': 0.1324623610973358, 'epoch': 20.0})"
      ]
     },
     "execution_count": 26,
     "metadata": {},
     "output_type": "execute_result"
    }
   ],
   "source": [
    "trainer.train()"
   ]
  },
  {
   "cell_type": "markdown",
   "id": "fe9aa0dc",
   "metadata": {},
   "source": [
    "# Evaluate"
   ]
  },
  {
   "cell_type": "code",
   "execution_count": 27,
   "id": "a0d50392",
   "metadata": {
    "scrolled": true
   },
   "outputs": [
    {
     "name": "stderr",
     "output_type": "stream",
     "text": [
      "***** Running Evaluation *****\n",
      "  Num examples = 200\n",
      "  Batch size = 8\n"
     ]
    },
    {
     "data": {
      "text/html": [],
      "text/plain": [
       "<IPython.core.display.HTML object>"
      ]
     },
     "metadata": {},
     "output_type": "display_data"
    },
    {
     "data": {
      "text/plain": [
       "{'eval_loss': 0.19492782652378082,\n",
       " 'eval_f1': 0.7839195979899497,\n",
       " 'eval_roc_auc': 0.8645688031384258,\n",
       " 'eval_accuracy': 0.495,\n",
       " 'eval_runtime': 12.8041,\n",
       " 'eval_samples_per_second': 15.62,\n",
       " 'eval_steps_per_second': 1.952,\n",
       " 'epoch': 20.0}"
      ]
     },
     "execution_count": 27,
     "metadata": {},
     "output_type": "execute_result"
    }
   ],
   "source": [
    "trainer.evaluate()"
   ]
  },
  {
   "cell_type": "markdown",
   "id": "3dc88947",
   "metadata": {},
   "source": [
    "# Inference"
   ]
  },
  {
   "cell_type": "code",
   "execution_count": 28,
   "id": "c4cd0bda",
   "metadata": {},
   "outputs": [
    {
     "name": "stderr",
     "output_type": "stream",
     "text": [
      "***** Running Prediction *****\n",
      "  Num examples = 200\n",
      "  Batch size = 8\n"
     ]
    }
   ],
   "source": [
    "test_pred=trainer.predict(encoded_test_set).predictions\n",
    "test_pred = torch.from_numpy(test_pred)"
   ]
  },
  {
   "cell_type": "code",
   "execution_count": 29,
   "id": "e0a87e21",
   "metadata": {},
   "outputs": [
    {
     "data": {
      "text/plain": [
       "0    67\n",
       "1    42\n",
       "2    22\n",
       "3    21\n",
       "4     4\n",
       "5    31\n",
       "6     5\n",
       "7     4\n",
       "8    76\n",
       "9    18\n",
       "dtype: int64"
      ]
     },
     "execution_count": 29,
     "metadata": {},
     "output_type": "execute_result"
    }
   ],
   "source": [
    "pd.DataFrame(1*(test_pred.sigmoid()>0.5)).sum(axis=0)"
   ]
  },
  {
   "cell_type": "code",
   "execution_count": 30,
   "id": "ef711a3f",
   "metadata": {},
   "outputs": [
    {
     "name": "stdout",
     "output_type": "stream",
     "text": [
      "              precision    recall  f1-score   support\n",
      "\n",
      "           0       0.93      0.97      0.95        64\n",
      "           1       0.95      0.98      0.96        41\n",
      "           2       0.91      0.95      0.93        21\n",
      "           3       0.52      0.79      0.63        14\n",
      "           4       0.50      0.14      0.22        14\n",
      "           5       0.68      0.64      0.66        33\n",
      "           6       0.60      0.75      0.67         4\n",
      "           7       0.75      0.19      0.30        16\n",
      "           8       0.74      0.84      0.78        67\n",
      "           9       0.89      0.48      0.63        33\n",
      "\n",
      "   micro avg       0.81      0.76      0.78       307\n",
      "   macro avg       0.75      0.67      0.67       307\n",
      "weighted avg       0.81      0.76      0.76       307\n",
      " samples avg       0.75      0.70      0.70       307\n",
      "\n"
     ]
    }
   ],
   "source": [
    "from sklearn.metrics import  classification_report\n",
    "\n",
    "print(classification_report(PVE_input[PVE_input['BL_batch']==-1].iloc[:, 5:15],np.matrix(1*(test_pred.sigmoid()>0.5))))"
   ]
  },
  {
   "cell_type": "code",
   "execution_count": 31,
   "id": "524f1f06",
   "metadata": {},
   "outputs": [
    {
     "data": {
      "text/plain": [
       "array([[[131,   5],\n",
       "        [  2,  62]],\n",
       "\n",
       "       [[157,   2],\n",
       "        [  1,  40]],\n",
       "\n",
       "       [[177,   2],\n",
       "        [  1,  20]],\n",
       "\n",
       "       [[176,  10],\n",
       "        [  3,  11]],\n",
       "\n",
       "       [[184,   2],\n",
       "        [ 12,   2]],\n",
       "\n",
       "       [[157,  10],\n",
       "        [ 12,  21]],\n",
       "\n",
       "       [[194,   2],\n",
       "        [  1,   3]],\n",
       "\n",
       "       [[183,   1],\n",
       "        [ 13,   3]],\n",
       "\n",
       "       [[113,  20],\n",
       "        [ 11,  56]],\n",
       "\n",
       "       [[165,   2],\n",
       "        [ 17,  16]]], dtype=int64)"
      ]
     },
     "execution_count": 31,
     "metadata": {},
     "output_type": "execute_result"
    }
   ],
   "source": [
    "from sklearn.metrics import multilabel_confusion_matrix\n",
    "multilabel_confusion_matrix(PVE_input[PVE_input['BL_batch']==-1].iloc[:, 5:15],np.matrix(1*(test_pred.sigmoid()>0.5)))"
   ]
  },
  {
   "cell_type": "code",
   "execution_count": 32,
   "id": "e73a9a6f",
   "metadata": {},
   "outputs": [
    {
     "name": "stderr",
     "output_type": "stream",
     "text": [
      "Configuration saved in models\\config.json\n",
      "Model weights saved in models\\pytorch_model.bin\n"
     ]
    }
   ],
   "source": [
    "model.save_pretrained('models')"
   ]
  },
  {
   "cell_type": "markdown",
   "id": "450ab1c6",
   "metadata": {},
   "source": [
    "# Select cases for active sampling"
   ]
  },
  {
   "cell_type": "code",
   "execution_count": 33,
   "id": "99aff60f",
   "metadata": {},
   "outputs": [],
   "source": [
    "PVE_input_selection=PVE_input[np.isnan(PVE_input['AL_batch'])]\n",
    "selection_set=Dataset.from_pandas(PVE_input_selection)\n",
    "#selection_set=Dataset.from_pandas(PVE_input[np.isnan(PVE_input['AL_batch'])][0:100])"
   ]
  },
  {
   "cell_type": "code",
   "execution_count": 34,
   "id": "2c5fbe34",
   "metadata": {},
   "outputs": [
    {
     "data": {
      "text/plain": [
       "Dataset({\n",
       "    features: ['opinion', 'project', 'random_order', 'BL_batch', 'AL_batch', 'Autonomy_for_companies', 'Autonomy_for_close_contact_professions', 'Quality_of_life_for_elderly', 'Family_value', 'Feasibility', 'Acceptance_of_exception', 'The_need_of_schooling', 'Working_safety', 'Well-being', 'Reduce_adverse_effect', 'step_0_margin', 'step_0_rank', 'step_1_margin', 'step_1_rank', 'step_2_margin', 'step_2_rank', 'step_3_margin', 'step_3_rank', 'step_4_margin', 'step_4_rank', 'step_5_margin', 'step_5_rank', 'step_6_margin', 'step_6_rank', 'step_7_margin', 'step_7_rank', 'step_8_margin', 'step_8_rank', 'step_9_margin', 'step_9_rank', '__index_level_0__'],\n",
       "    num_rows: 59061\n",
       "})"
      ]
     },
     "execution_count": 34,
     "metadata": {},
     "output_type": "execute_result"
    }
   ],
   "source": [
    "selection_set"
   ]
  },
  {
   "cell_type": "code",
   "execution_count": 35,
   "id": "b9cfdcf9",
   "metadata": {},
   "outputs": [
    {
     "data": {
      "application/vnd.jupyter.widget-view+json": {
       "model_id": "",
       "version_major": 2,
       "version_minor": 0
      },
      "text/plain": [
       "Map:   0%|          | 0/59061 [00:00<?, ? examples/s]"
      ]
     },
     "metadata": {},
     "output_type": "display_data"
    }
   ],
   "source": [
    "encoded_selection_set = selection_set.map(preprocess_data, batched=True, remove_columns=selection_set.column_names)"
   ]
  },
  {
   "cell_type": "code",
   "execution_count": 36,
   "id": "f6c886e6",
   "metadata": {},
   "outputs": [
    {
     "name": "stdout",
     "output_type": "stream",
     "text": [
      "There are 1 GPU(s) available.\n",
      "We will use the GPU: NVIDIA GeForce MX550\n"
     ]
    }
   ],
   "source": [
    "if torch.cuda.is_available():\n",
    "    print(f'There are {torch.cuda.device_count()} GPU(s) available.')\n",
    "    print(f'We will use the GPU: {torch.cuda.get_device_name(0)}')\n",
    "    encoded_selection_set.set_format(\"torch\", device='cuda:0')\n",
    "else:\n",
    "    encoded_selection_set.set_format(\"torch\")\n",
    "    print('No GPU available, using the CPU instead.')"
   ]
  },
  {
   "cell_type": "code",
   "execution_count": 37,
   "id": "5b40941d",
   "metadata": {},
   "outputs": [],
   "source": [
    "encoded_selection_set=encoded_selection_set.remove_columns(['labels'])"
   ]
  },
  {
   "cell_type": "code",
   "execution_count": 38,
   "id": "6edd82e3",
   "metadata": {},
   "outputs": [
    {
     "name": "stderr",
     "output_type": "stream",
     "text": [
      "***** Running Prediction *****\n",
      "  Num examples = 59061\n",
      "  Batch size = 8\n"
     ]
    },
    {
     "data": {
      "text/html": [],
      "text/plain": [
       "<IPython.core.display.HTML object>"
      ]
     },
     "metadata": {},
     "output_type": "display_data"
    }
   ],
   "source": [
    "selection_pred=trainer.predict(encoded_selection_set).predictions\n",
    "selection_pred = torch.from_numpy(selection_pred)"
   ]
  },
  {
   "cell_type": "code",
   "execution_count": 39,
   "id": "0f0d6394",
   "metadata": {},
   "outputs": [],
   "source": [
    "#pd.DataFrame(1*(selection_pred.sigmoid()>0.5)).sum(axis=0)"
   ]
  },
  {
   "cell_type": "code",
   "execution_count": 40,
   "id": "8aab4620",
   "metadata": {},
   "outputs": [],
   "source": [
    "#pd.DataFrame(abs(selection_pred.sigmoid()-0.5)).min(axis=1)"
   ]
  },
  {
   "cell_type": "code",
   "execution_count": 41,
   "id": "3a8dfd00",
   "metadata": {},
   "outputs": [],
   "source": [
    "#pd.DataFrame(abs(selection_pred.sigmoid()-0.5)).min(axis=1).rank()"
   ]
  },
  {
   "cell_type": "code",
   "execution_count": 42,
   "id": "e57e0e68",
   "metadata": {},
   "outputs": [],
   "source": [
    "PVE_input_selection['margin']=list(pd.DataFrame(abs(selection_pred.sigmoid()-0.5)).min(axis=1))\n",
    "PVE_input_selection['margin_rank']=list(pd.DataFrame(abs(selection_pred.sigmoid()-0.5)).min(axis=1).rank())"
   ]
  },
  {
   "cell_type": "code",
   "execution_count": 43,
   "id": "c638d817",
   "metadata": {
    "scrolled": true
   },
   "outputs": [],
   "source": [
    "PVE_input_selection.to_excel('selected_case.xlsx')"
   ]
  },
  {
   "cell_type": "code",
   "execution_count": 44,
   "id": "bd656b4e",
   "metadata": {},
   "outputs": [],
   "source": [
    "prob=pd.DataFrame(selection_pred.sigmoid())"
   ]
  },
  {
   "cell_type": "code",
   "execution_count": 45,
   "id": "7ed62a06",
   "metadata": {},
   "outputs": [],
   "source": [
    "prob.to_excel('selected_case_prob.xlsx')"
   ]
  },
  {
   "cell_type": "code",
   "execution_count": null,
   "id": "83b588f1",
   "metadata": {},
   "outputs": [],
   "source": []
  }
 ],
 "metadata": {
  "kernelspec": {
   "display_name": "Python 3 (ipykernel)",
   "language": "python",
   "name": "python3"
  },
  "language_info": {
   "codemirror_mode": {
    "name": "ipython",
    "version": 3
   },
   "file_extension": ".py",
   "mimetype": "text/x-python",
   "name": "python",
   "nbconvert_exporter": "python",
   "pygments_lexer": "ipython3",
   "version": "3.10.9"
  }
 },
 "nbformat": 4,
 "nbformat_minor": 5
}
